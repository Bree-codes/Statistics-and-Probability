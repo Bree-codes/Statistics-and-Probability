{
 "cells": [
  {
   "cell_type": "code",
   "execution_count": 2,
   "id": "4955d6d5-5c34-4715-8615-52e06e4906ee",
   "metadata": {},
   "outputs": [
    {
     "data": {
      "text/html": [
       "<div>\n",
       "<style scoped>\n",
       "    .dataframe tbody tr th:only-of-type {\n",
       "        vertical-align: middle;\n",
       "    }\n",
       "\n",
       "    .dataframe tbody tr th {\n",
       "        vertical-align: top;\n",
       "    }\n",
       "\n",
       "    .dataframe thead th {\n",
       "        text-align: right;\n",
       "    }\n",
       "</style>\n",
       "<table border=\"1\" class=\"dataframe\">\n",
       "  <thead>\n",
       "    <tr style=\"text-align: right;\">\n",
       "      <th></th>\n",
       "      <th>Customer ID</th>\n",
       "      <th>Age</th>\n",
       "      <th>Gender</th>\n",
       "      <th>Location</th>\n",
       "      <th>Annual Income</th>\n",
       "      <th>Purchase History</th>\n",
       "      <th>Browsing History</th>\n",
       "      <th>Product Reviews</th>\n",
       "      <th>Time on Site</th>\n",
       "    </tr>\n",
       "  </thead>\n",
       "  <tbody>\n",
       "    <tr>\n",
       "      <th>0</th>\n",
       "      <td>1001</td>\n",
       "      <td>25</td>\n",
       "      <td>Female</td>\n",
       "      <td>City D</td>\n",
       "      <td>45000</td>\n",
       "      <td>[{\"Date\": \"2022-03-05\", \"Category\": \"Clothing\"...</td>\n",
       "      <td>[{\"Timestamp\": \"2022-03-10T14:30:00Z\"}, {\"Time...</td>\n",
       "      <td>Great pair of jeans, very comfortable. Rating:...</td>\n",
       "      <td>32.50</td>\n",
       "    </tr>\n",
       "    <tr>\n",
       "      <th>1</th>\n",
       "      <td>1001</td>\n",
       "      <td>28</td>\n",
       "      <td>Female</td>\n",
       "      <td>City D</td>\n",
       "      <td>52000</td>\n",
       "      <td>[{\"Product Category\": \"Clothing\", \"Purchase Da...</td>\n",
       "      <td>[{\"Product Category\": \"Home &amp; Garden\", \"Timest...</td>\n",
       "      <td>Great customer service!</td>\n",
       "      <td>123.45</td>\n",
       "    </tr>\n",
       "    <tr>\n",
       "      <th>2</th>\n",
       "      <td>1001</td>\n",
       "      <td>28</td>\n",
       "      <td>Female</td>\n",
       "      <td>City D</td>\n",
       "      <td>65000</td>\n",
       "      <td>[{\"Product Category\": \"Electronics\", \"Purchase...</td>\n",
       "      <td>[{\"Product Category\": \"Clothing\", \"Timestamp\":...</td>\n",
       "      <td>Great electronics. The sound quality is excell...</td>\n",
       "      <td>125.60</td>\n",
       "    </tr>\n",
       "    <tr>\n",
       "      <th>3</th>\n",
       "      <td>1001</td>\n",
       "      <td>45</td>\n",
       "      <td>Female</td>\n",
       "      <td>City D</td>\n",
       "      <td>70000</td>\n",
       "      <td>{'Purchase Date': '2022-08-15', 'Product Categ...</td>\n",
       "      <td>{'Timestamp': '2022-09-03 14:30:00'}</td>\n",
       "      <td>{\"Product 1\": {\"Rating\": 4, \"Review\": \"Great e...</td>\n",
       "      <td>327.60</td>\n",
       "    </tr>\n",
       "    <tr>\n",
       "      <th>4</th>\n",
       "      <td>1002</td>\n",
       "      <td>34</td>\n",
       "      <td>Male</td>\n",
       "      <td>City E</td>\n",
       "      <td>45000</td>\n",
       "      <td>{'Purchase Date': '2022-07-25', 'Product Categ...</td>\n",
       "      <td>{'Timestamp': '2022-08-10 17:15:00'}</td>\n",
       "      <td>{\"Product 1\": {\"Rating\": 3, \"Review\": \"Good pr...</td>\n",
       "      <td>214.90</td>\n",
       "    </tr>\n",
       "  </tbody>\n",
       "</table>\n",
       "</div>"
      ],
      "text/plain": [
       "   Customer ID  Age  Gender Location  Annual Income  \\\n",
       "0         1001   25  Female   City D          45000   \n",
       "1         1001   28  Female   City D          52000   \n",
       "2         1001   28  Female   City D          65000   \n",
       "3         1001   45  Female   City D          70000   \n",
       "4         1002   34    Male   City E          45000   \n",
       "\n",
       "                                    Purchase History  \\\n",
       "0  [{\"Date\": \"2022-03-05\", \"Category\": \"Clothing\"...   \n",
       "1  [{\"Product Category\": \"Clothing\", \"Purchase Da...   \n",
       "2  [{\"Product Category\": \"Electronics\", \"Purchase...   \n",
       "3  {'Purchase Date': '2022-08-15', 'Product Categ...   \n",
       "4  {'Purchase Date': '2022-07-25', 'Product Categ...   \n",
       "\n",
       "                                    Browsing History  \\\n",
       "0  [{\"Timestamp\": \"2022-03-10T14:30:00Z\"}, {\"Time...   \n",
       "1  [{\"Product Category\": \"Home & Garden\", \"Timest...   \n",
       "2  [{\"Product Category\": \"Clothing\", \"Timestamp\":...   \n",
       "3               {'Timestamp': '2022-09-03 14:30:00'}   \n",
       "4               {'Timestamp': '2022-08-10 17:15:00'}   \n",
       "\n",
       "                                     Product Reviews  Time on Site  \n",
       "0  Great pair of jeans, very comfortable. Rating:...         32.50  \n",
       "1                            Great customer service!        123.45  \n",
       "2  Great electronics. The sound quality is excell...        125.60  \n",
       "3  {\"Product 1\": {\"Rating\": 4, \"Review\": \"Great e...        327.60  \n",
       "4  {\"Product 1\": {\"Rating\": 3, \"Review\": \"Good pr...        214.90  "
      ]
     },
     "execution_count": 2,
     "metadata": {},
     "output_type": "execute_result"
    }
   ],
   "source": [
    "import pandas as pd\n",
    "import seaborn as sns\n",
    "import statistics\n",
    "\n",
    "df = pd.read_csv('/home/bree/Downloads/archive/E-commerce.csv')\n",
    "df.head()\n"
   ]
  },
  {
   "cell_type": "code",
   "execution_count": 9,
   "id": "4f8ba9c7-15fc-45d9-bb32-6cf208208b81",
   "metadata": {},
   "outputs": [
    {
     "name": "stdout",
     "output_type": "stream",
     "text": [
      "The total income for the first 5 is: 277000\n"
     ]
    }
   ],
   "source": [
    "total_income = df['Annual Income'].iloc[:5].sum()\n",
    "print(f\"The total income for the first 5 is: {total_income}\")"
   ]
  },
  {
   "cell_type": "code",
   "execution_count": 15,
   "id": "764491c5-6526-4de2-969a-234b30f6529d",
   "metadata": {},
   "outputs": [
    {
     "name": "stdout",
     "output_type": "stream",
     "text": [
      "55400\n"
     ]
    }
   ],
   "source": [
    "total_income = df['Annual Income'].iloc[:5].tolist()\n",
    "mean_income = statistics.mean(total_income)\n",
    "print(mean_income)\n"
   ]
  },
  {
   "cell_type": "code",
   "execution_count": 16,
   "id": "1305543f-3bc1-4b66-b222-3415065ac95c",
   "metadata": {},
   "outputs": [
    {
     "name": "stdout",
     "output_type": "stream",
     "text": [
      "55400.0\n"
     ]
    }
   ],
   "source": [
    "mean_income = df['Annual Income'].iloc[:5].mean()\n",
    "print(mean_income)"
   ]
  },
  {
   "cell_type": "code",
   "execution_count": 17,
   "id": "f862af85-87fc-4e9b-b550-a1a20fd3f615",
   "metadata": {},
   "outputs": [
    {
     "name": "stdout",
     "output_type": "stream",
     "text": [
      "52000.0\n"
     ]
    }
   ],
   "source": [
    "median_income = df['Annual Income'].iloc[:5].median()\n",
    "print(median_income)"
   ]
  },
  {
   "cell_type": "code",
   "execution_count": 18,
   "id": "93943781-c6a2-458e-8008-0573950259e0",
   "metadata": {},
   "outputs": [
    {
     "name": "stdout",
     "output_type": "stream",
     "text": [
      "0    45000\n",
      "Name: Annual Income, dtype: int64\n"
     ]
    }
   ],
   "source": [
    "mode_income = df['Annual Income'].iloc[:5].mode()\n",
    "print(mode_income)"
   ]
  },
  {
   "cell_type": "code",
   "execution_count": 19,
   "id": "1c92c1db-d803-40c4-9241-7c5f59def0ab",
   "metadata": {},
   "outputs": [
    {
     "name": "stdout",
     "output_type": "stream",
     "text": [
      "52000\n"
     ]
    }
   ],
   "source": [
    "total_income = df['Annual Income'].iloc[:5].tolist()\n",
    "median_income = statistics.median(total_income)\n",
    "print(median_income)"
   ]
  },
  {
   "cell_type": "code",
   "execution_count": 20,
   "id": "d0142139-cf4e-4dba-8940-c1cb391b1397",
   "metadata": {},
   "outputs": [
    {
     "name": "stdout",
     "output_type": "stream",
     "text": [
      "45000\n"
     ]
    }
   ],
   "source": [
    "total_income = df['Annual Income'].iloc[:5].tolist()\n",
    "mode_income = statistics.mode(total_income)\n",
    "print(mode_income)"
   ]
  },
  {
   "cell_type": "code",
   "execution_count": null,
   "id": "0b78071e-64be-417f-aad1-fa7b0f20779f",
   "metadata": {},
   "outputs": [],
   "source": []
  },
  {
   "cell_type": "code",
   "execution_count": null,
   "id": "e7dd473a-2467-4646-a829-c0fe3f748246",
   "metadata": {},
   "outputs": [],
   "source": []
  }
 ],
 "metadata": {
  "kernelspec": {
   "display_name": "Python 3 (ipykernel)",
   "language": "python",
   "name": "python3"
  },
  "language_info": {
   "codemirror_mode": {
    "name": "ipython",
    "version": 3
   },
   "file_extension": ".py",
   "mimetype": "text/x-python",
   "name": "python",
   "nbconvert_exporter": "python",
   "pygments_lexer": "ipython3",
   "version": "3.12.3"
  }
 },
 "nbformat": 4,
 "nbformat_minor": 5
}
